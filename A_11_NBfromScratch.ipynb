{
 "cells": [
  {
   "cell_type": "code",
   "execution_count": 1,
   "id": "b1e1c63f",
   "metadata": {},
   "outputs": [],
   "source": [
    "def calc_statistics(self, features, target):\n",
    "        '''\n",
    "        calculate mean, variance for each column and convert to numpy array\n",
    "        ''' \n",
    "        self.mean = features.groupby(target).apply(np.mean).to_numpy()\n",
    "        self.var = features.groupby(target).apply(np.var).to_numpy()\n",
    "              \n",
    "        return self.mean, self.var\n",
    "\n",
    "def gaussian_density(self, class_idx, x):     \n",
    "        '''\n",
    "        calculate probability from gaussian density function (normally distributed)\n",
    "\n",
    "        '''\n",
    "        mean = self.mean[class_idx]\n",
    "        var = self.var[class_idx]\n",
    "        numerator = np.exp((-1/2)*((x-mean)**2) / (2 * var))\n",
    "        denominator = np.sqrt(2 * np.pi * var)\n",
    "        prob = numerator / denominator\n",
    "        return prob\n",
    "\n",
    "# prior probabilities\n",
    "def calc_prior(self, features, target):\n",
    "    self.prior = (features.groupby(target).apply(lambda x: len(x))/self.rows).to_numpy()\n",
    "    return self.prior\n",
    "    \n",
    "# posterior probabilities\n",
    "def calc_posterior(self, x):\n",
    "    posteriors = []\n",
    "    for i in range(self.count):\n",
    "        prior = np.log(self.prior[i]) \n",
    "        conditional = np.sum(np.log(self.gaussian_density(i, x)))\n",
    "        posterior = prior + conditional\n",
    "        posteriors.append(posterior)\n",
    "    return self.classes[np.argmax(posteriors)]    \n",
    "def fit(self, features, target):\n",
    "    # define class variables \n",
    "    self.classes = np.unique(target)\n",
    "    self.count = len(self.classes)\n",
    "    self.feature_nums = features.shape[1]\n",
    "    self.rows = features.shape[0]\n",
    "    \n",
    "    # calculate statistics    \n",
    "    self.calc_statistics(features, target)\n",
    "    self.calc_prior(features, target)\n",
    "        \n",
    "def predict(self, features):\n",
    "    preds = [self.calc_posterior(f) for f in features.to_numpy()]\n",
    "    return preds"
   ]
  },
  {
   "cell_type": "code",
   "execution_count": null,
   "id": "42707cbc",
   "metadata": {},
   "outputs": [],
   "source": []
  }
 ],
 "metadata": {
  "kernelspec": {
   "display_name": "Python 3",
   "language": "python",
   "name": "python3"
  },
  "language_info": {
   "codemirror_mode": {
    "name": "ipython",
    "version": 3
   },
   "file_extension": ".py",
   "mimetype": "text/x-python",
   "name": "python",
   "nbconvert_exporter": "python",
   "pygments_lexer": "ipython3",
   "version": "3.8.8"
  }
 },
 "nbformat": 4,
 "nbformat_minor": 5
}
